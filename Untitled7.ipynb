{
 "cells": [
  {
   "cell_type": "markdown",
   "metadata": {
    "id": "z8en7UmQGsnH"
   },
   "source": [
    "# Ames Housing Data\n",
    "\n",
    "```\n",
    "curl -O http://jse.amstat.org/v19n3/decock/DataDocumentation.txt\n",
    "curl -o AmesHousing.tsv http://jse.amstat.org/v19n3/decock/AmesHousing.txt\n",
    "```\n",
    "\n",
    "http://jse.amstat.org/v19n3/decock.pdf\n",
    "    \n",
    "> This paper presents a data set describing the sale of individual residential property in Ames, Iowa\n",
    "from 2006 to 2010. The data set contains 2930 observations and a large number of explanatory\n",
    "variables (23 nominal, 23 ordinal, 14 discrete, and 20 continuous) involved in assessing home\n",
    "values. \n",
    "\n",
    "From the author: \n",
    "\n",
    "> To give readers a benchmark, I found about\n",
    "80% of the variation in residential sales price can be explained by simply taking into\n",
    "consideration the neighborhood and total square footage (TOTAL BSMT SF + GR LIV AREA) of\n",
    "the dwelling. On the other extreme, I have constructed a model with 36 variables (some of my\n",
    "own creation through recoding and interactions), all significant at the .05 level, which explains\n",
    "92% of the variation in sales."
   ]
  },
  {
   "cell_type": "code",
   "execution_count": 1,
   "metadata": {},
   "outputs": [
    {
     "name": "stdout",
     "output_type": "stream",
     "text": [
      "Requirement already satisfied: blackcellmagic in /Users/robmoore/.local/share/virtualenvs/zoomcamp-midterm-project-A8Co57xr/lib/python3.9/site-packages (0.0.3)\n",
      "Requirement already satisfied: jupyter<2.0.0,>=1.0.0 in /Users/robmoore/.local/share/virtualenvs/zoomcamp-midterm-project-A8Co57xr/lib/python3.9/site-packages (from blackcellmagic) (1.0.0)\n",
      "Requirement already satisfied: black<22.0,>=21.9b0 in /Users/robmoore/.local/share/virtualenvs/zoomcamp-midterm-project-A8Co57xr/lib/python3.9/site-packages (from blackcellmagic) (21.11b1)\n",
      "Requirement already satisfied: platformdirs>=2 in /Users/robmoore/.local/share/virtualenvs/zoomcamp-midterm-project-A8Co57xr/lib/python3.9/site-packages (from black<22.0,>=21.9b0->blackcellmagic) (2.4.0)\n",
      "Requirement already satisfied: click>=7.1.2 in /Users/robmoore/.local/share/virtualenvs/zoomcamp-midterm-project-A8Co57xr/lib/python3.9/site-packages (from black<22.0,>=21.9b0->blackcellmagic) (8.0.3)\n",
      "Requirement already satisfied: tomli<2.0.0,>=0.2.6 in /Users/robmoore/.local/share/virtualenvs/zoomcamp-midterm-project-A8Co57xr/lib/python3.9/site-packages (from black<22.0,>=21.9b0->blackcellmagic) (1.2.2)\n",
      "Requirement already satisfied: mypy-extensions>=0.4.3 in /Users/robmoore/.local/share/virtualenvs/zoomcamp-midterm-project-A8Co57xr/lib/python3.9/site-packages (from black<22.0,>=21.9b0->blackcellmagic) (0.4.3)\n",
      "Requirement already satisfied: typing-extensions>=3.10.0.0 in /Users/robmoore/.local/share/virtualenvs/zoomcamp-midterm-project-A8Co57xr/lib/python3.9/site-packages (from black<22.0,>=21.9b0->blackcellmagic) (4.0.1)\n",
      "Requirement already satisfied: pathspec<1,>=0.9.0 in /Users/robmoore/.local/share/virtualenvs/zoomcamp-midterm-project-A8Co57xr/lib/python3.9/site-packages (from black<22.0,>=21.9b0->blackcellmagic) (0.9.0)\n",
      "Requirement already satisfied: regex>=2021.4.4 in /Users/robmoore/.local/share/virtualenvs/zoomcamp-midterm-project-A8Co57xr/lib/python3.9/site-packages (from black<22.0,>=21.9b0->blackcellmagic) (2021.11.10)\n",
      "Requirement already satisfied: qtconsole in /Users/robmoore/.local/share/virtualenvs/zoomcamp-midterm-project-A8Co57xr/lib/python3.9/site-packages (from jupyter<2.0.0,>=1.0.0->blackcellmagic) (5.2.1)\n",
      "Requirement already satisfied: notebook in /Users/robmoore/.local/share/virtualenvs/zoomcamp-midterm-project-A8Co57xr/lib/python3.9/site-packages (from jupyter<2.0.0,>=1.0.0->blackcellmagic) (6.4.6)\n",
      "Requirement already satisfied: nbconvert in /Users/robmoore/.local/share/virtualenvs/zoomcamp-midterm-project-A8Co57xr/lib/python3.9/site-packages (from jupyter<2.0.0,>=1.0.0->blackcellmagic) (6.3.0)\n",
      "Requirement already satisfied: jupyter-console in /Users/robmoore/.local/share/virtualenvs/zoomcamp-midterm-project-A8Co57xr/lib/python3.9/site-packages (from jupyter<2.0.0,>=1.0.0->blackcellmagic) (6.4.0)\n",
      "Requirement already satisfied: ipywidgets in /Users/robmoore/.local/share/virtualenvs/zoomcamp-midterm-project-A8Co57xr/lib/python3.9/site-packages (from jupyter<2.0.0,>=1.0.0->blackcellmagic) (7.6.5)\n",
      "Requirement already satisfied: ipykernel in /Users/robmoore/.local/share/virtualenvs/zoomcamp-midterm-project-A8Co57xr/lib/python3.9/site-packages (from jupyter<2.0.0,>=1.0.0->blackcellmagic) (6.5.1)\n",
      "Requirement already satisfied: jupyter-client<8.0 in /Users/robmoore/.local/share/virtualenvs/zoomcamp-midterm-project-A8Co57xr/lib/python3.9/site-packages (from ipykernel->jupyter<2.0.0,>=1.0.0->blackcellmagic) (7.1.0)\n",
      "Requirement already satisfied: appnope in /Users/robmoore/.local/share/virtualenvs/zoomcamp-midterm-project-A8Co57xr/lib/python3.9/site-packages (from ipykernel->jupyter<2.0.0,>=1.0.0->blackcellmagic) (0.1.2)\n",
      "Requirement already satisfied: matplotlib-inline<0.2.0,>=0.1.0 in /Users/robmoore/.local/share/virtualenvs/zoomcamp-midterm-project-A8Co57xr/lib/python3.9/site-packages (from ipykernel->jupyter<2.0.0,>=1.0.0->blackcellmagic) (0.1.3)\n",
      "Requirement already satisfied: tornado<7.0,>=4.2 in /Users/robmoore/.local/share/virtualenvs/zoomcamp-midterm-project-A8Co57xr/lib/python3.9/site-packages (from ipykernel->jupyter<2.0.0,>=1.0.0->blackcellmagic) (6.1)\n",
      "Requirement already satisfied: ipython>=7.23.1 in /Users/robmoore/.local/share/virtualenvs/zoomcamp-midterm-project-A8Co57xr/lib/python3.9/site-packages (from ipykernel->jupyter<2.0.0,>=1.0.0->blackcellmagic) (7.30.0)\n",
      "Requirement already satisfied: traitlets<6.0,>=5.1.0 in /Users/robmoore/.local/share/virtualenvs/zoomcamp-midterm-project-A8Co57xr/lib/python3.9/site-packages (from ipykernel->jupyter<2.0.0,>=1.0.0->blackcellmagic) (5.1.1)\n",
      "Requirement already satisfied: debugpy<2.0,>=1.0.0 in /Users/robmoore/.local/share/virtualenvs/zoomcamp-midterm-project-A8Co57xr/lib/python3.9/site-packages (from ipykernel->jupyter<2.0.0,>=1.0.0->blackcellmagic) (1.5.1)\n",
      "Requirement already satisfied: nbformat>=4.2.0 in /Users/robmoore/.local/share/virtualenvs/zoomcamp-midterm-project-A8Co57xr/lib/python3.9/site-packages (from ipywidgets->jupyter<2.0.0,>=1.0.0->blackcellmagic) (5.1.3)\n",
      "Requirement already satisfied: widgetsnbextension~=3.5.0 in /Users/robmoore/.local/share/virtualenvs/zoomcamp-midterm-project-A8Co57xr/lib/python3.9/site-packages (from ipywidgets->jupyter<2.0.0,>=1.0.0->blackcellmagic) (3.5.2)\n",
      "Requirement already satisfied: jupyterlab-widgets>=1.0.0 in /Users/robmoore/.local/share/virtualenvs/zoomcamp-midterm-project-A8Co57xr/lib/python3.9/site-packages (from ipywidgets->jupyter<2.0.0,>=1.0.0->blackcellmagic) (1.0.2)\n",
      "Requirement already satisfied: ipython-genutils~=0.2.0 in /Users/robmoore/.local/share/virtualenvs/zoomcamp-midterm-project-A8Co57xr/lib/python3.9/site-packages (from ipywidgets->jupyter<2.0.0,>=1.0.0->blackcellmagic) (0.2.0)\n",
      "Requirement already satisfied: pygments in /Users/robmoore/.local/share/virtualenvs/zoomcamp-midterm-project-A8Co57xr/lib/python3.9/site-packages (from jupyter-console->jupyter<2.0.0,>=1.0.0->blackcellmagic) (2.10.0)\n",
      "Requirement already satisfied: prompt-toolkit!=3.0.0,!=3.0.1,<3.1.0,>=2.0.0 in /Users/robmoore/.local/share/virtualenvs/zoomcamp-midterm-project-A8Co57xr/lib/python3.9/site-packages (from jupyter-console->jupyter<2.0.0,>=1.0.0->blackcellmagic) (3.0.23)\n",
      "Requirement already satisfied: jinja2>=2.4 in /Users/robmoore/.local/share/virtualenvs/zoomcamp-midterm-project-A8Co57xr/lib/python3.9/site-packages (from nbconvert->jupyter<2.0.0,>=1.0.0->blackcellmagic) (3.0.3)\n",
      "Requirement already satisfied: nbclient<0.6.0,>=0.5.0 in /Users/robmoore/.local/share/virtualenvs/zoomcamp-midterm-project-A8Co57xr/lib/python3.9/site-packages (from nbconvert->jupyter<2.0.0,>=1.0.0->blackcellmagic) (0.5.9)\n",
      "Requirement already satisfied: mistune<2,>=0.8.1 in /Users/robmoore/.local/share/virtualenvs/zoomcamp-midterm-project-A8Co57xr/lib/python3.9/site-packages (from nbconvert->jupyter<2.0.0,>=1.0.0->blackcellmagic) (0.8.4)\n",
      "Requirement already satisfied: jupyter-core in /Users/robmoore/.local/share/virtualenvs/zoomcamp-midterm-project-A8Co57xr/lib/python3.9/site-packages (from nbconvert->jupyter<2.0.0,>=1.0.0->blackcellmagic) (4.9.1)\n",
      "Requirement already satisfied: bleach in /Users/robmoore/.local/share/virtualenvs/zoomcamp-midterm-project-A8Co57xr/lib/python3.9/site-packages (from nbconvert->jupyter<2.0.0,>=1.0.0->blackcellmagic) (4.1.0)\n",
      "Requirement already satisfied: jupyterlab-pygments in /Users/robmoore/.local/share/virtualenvs/zoomcamp-midterm-project-A8Co57xr/lib/python3.9/site-packages (from nbconvert->jupyter<2.0.0,>=1.0.0->blackcellmagic) (0.1.2)\n",
      "Requirement already satisfied: pandocfilters>=1.4.1 in /Users/robmoore/.local/share/virtualenvs/zoomcamp-midterm-project-A8Co57xr/lib/python3.9/site-packages (from nbconvert->jupyter<2.0.0,>=1.0.0->blackcellmagic) (1.5.0)\n",
      "Requirement already satisfied: defusedxml in /Users/robmoore/.local/share/virtualenvs/zoomcamp-midterm-project-A8Co57xr/lib/python3.9/site-packages (from nbconvert->jupyter<2.0.0,>=1.0.0->blackcellmagic) (0.7.1)\n",
      "Requirement already satisfied: entrypoints>=0.2.2 in /Users/robmoore/.local/share/virtualenvs/zoomcamp-midterm-project-A8Co57xr/lib/python3.9/site-packages (from nbconvert->jupyter<2.0.0,>=1.0.0->blackcellmagic) (0.3)\n",
      "Requirement already satisfied: testpath in /Users/robmoore/.local/share/virtualenvs/zoomcamp-midterm-project-A8Co57xr/lib/python3.9/site-packages (from nbconvert->jupyter<2.0.0,>=1.0.0->blackcellmagic) (0.5.0)\n",
      "Requirement already satisfied: Send2Trash>=1.8.0 in /Users/robmoore/.local/share/virtualenvs/zoomcamp-midterm-project-A8Co57xr/lib/python3.9/site-packages (from notebook->jupyter<2.0.0,>=1.0.0->blackcellmagic) (1.8.0)\n",
      "Requirement already satisfied: terminado>=0.8.3 in /Users/robmoore/.local/share/virtualenvs/zoomcamp-midterm-project-A8Co57xr/lib/python3.9/site-packages (from notebook->jupyter<2.0.0,>=1.0.0->blackcellmagic) (0.12.1)\n",
      "Requirement already satisfied: pyzmq>=17 in /Users/robmoore/.local/share/virtualenvs/zoomcamp-midterm-project-A8Co57xr/lib/python3.9/site-packages (from notebook->jupyter<2.0.0,>=1.0.0->blackcellmagic) (22.3.0)\n",
      "Requirement already satisfied: argon2-cffi in /Users/robmoore/.local/share/virtualenvs/zoomcamp-midterm-project-A8Co57xr/lib/python3.9/site-packages (from notebook->jupyter<2.0.0,>=1.0.0->blackcellmagic) (21.1.0)\n",
      "Requirement already satisfied: prometheus-client in /Users/robmoore/.local/share/virtualenvs/zoomcamp-midterm-project-A8Co57xr/lib/python3.9/site-packages (from notebook->jupyter<2.0.0,>=1.0.0->blackcellmagic) (0.12.0)\n",
      "Requirement already satisfied: nest-asyncio>=1.5 in /Users/robmoore/.local/share/virtualenvs/zoomcamp-midterm-project-A8Co57xr/lib/python3.9/site-packages (from notebook->jupyter<2.0.0,>=1.0.0->blackcellmagic) (1.5.1)\n"
     ]
    },
    {
     "name": "stdout",
     "output_type": "stream",
     "text": [
      "Requirement already satisfied: qtpy in /Users/robmoore/.local/share/virtualenvs/zoomcamp-midterm-project-A8Co57xr/lib/python3.9/site-packages (from qtconsole->jupyter<2.0.0,>=1.0.0->blackcellmagic) (1.11.2)\n",
      "Requirement already satisfied: setuptools>=18.5 in /Users/robmoore/.local/share/virtualenvs/zoomcamp-midterm-project-A8Co57xr/lib/python3.9/site-packages (from ipython>=7.23.1->ipykernel->jupyter<2.0.0,>=1.0.0->blackcellmagic) (59.4.0)\n",
      "Requirement already satisfied: jedi>=0.16 in /Users/robmoore/.local/share/virtualenvs/zoomcamp-midterm-project-A8Co57xr/lib/python3.9/site-packages (from ipython>=7.23.1->ipykernel->jupyter<2.0.0,>=1.0.0->blackcellmagic) (0.18.1)\n",
      "Requirement already satisfied: pexpect>4.3 in /Users/robmoore/.local/share/virtualenvs/zoomcamp-midterm-project-A8Co57xr/lib/python3.9/site-packages (from ipython>=7.23.1->ipykernel->jupyter<2.0.0,>=1.0.0->blackcellmagic) (4.8.0)\n",
      "Requirement already satisfied: pickleshare in /Users/robmoore/.local/share/virtualenvs/zoomcamp-midterm-project-A8Co57xr/lib/python3.9/site-packages (from ipython>=7.23.1->ipykernel->jupyter<2.0.0,>=1.0.0->blackcellmagic) (0.7.5)\n",
      "Requirement already satisfied: decorator in /Users/robmoore/.local/share/virtualenvs/zoomcamp-midterm-project-A8Co57xr/lib/python3.9/site-packages (from ipython>=7.23.1->ipykernel->jupyter<2.0.0,>=1.0.0->blackcellmagic) (5.1.0)\n",
      "Requirement already satisfied: backcall in /Users/robmoore/.local/share/virtualenvs/zoomcamp-midterm-project-A8Co57xr/lib/python3.9/site-packages (from ipython>=7.23.1->ipykernel->jupyter<2.0.0,>=1.0.0->blackcellmagic) (0.2.0)\n",
      "Requirement already satisfied: MarkupSafe>=2.0 in /Users/robmoore/.local/share/virtualenvs/zoomcamp-midterm-project-A8Co57xr/lib/python3.9/site-packages (from jinja2>=2.4->nbconvert->jupyter<2.0.0,>=1.0.0->blackcellmagic) (2.0.1)\n",
      "Requirement already satisfied: python-dateutil>=2.1 in /Users/robmoore/.local/share/virtualenvs/zoomcamp-midterm-project-A8Co57xr/lib/python3.9/site-packages (from jupyter-client<8.0->ipykernel->jupyter<2.0.0,>=1.0.0->blackcellmagic) (2.8.2)\n",
      "Requirement already satisfied: jsonschema!=2.5.0,>=2.4 in /Users/robmoore/.local/share/virtualenvs/zoomcamp-midterm-project-A8Co57xr/lib/python3.9/site-packages (from nbformat>=4.2.0->ipywidgets->jupyter<2.0.0,>=1.0.0->blackcellmagic) (4.2.1)\n",
      "Requirement already satisfied: wcwidth in /Users/robmoore/.local/share/virtualenvs/zoomcamp-midterm-project-A8Co57xr/lib/python3.9/site-packages (from prompt-toolkit!=3.0.0,!=3.0.1,<3.1.0,>=2.0.0->jupyter-console->jupyter<2.0.0,>=1.0.0->blackcellmagic) (0.2.5)\n",
      "Requirement already satisfied: ptyprocess in /Users/robmoore/.local/share/virtualenvs/zoomcamp-midterm-project-A8Co57xr/lib/python3.9/site-packages (from terminado>=0.8.3->notebook->jupyter<2.0.0,>=1.0.0->blackcellmagic) (0.7.0)\n",
      "Requirement already satisfied: cffi>=1.0.0 in /Users/robmoore/.local/share/virtualenvs/zoomcamp-midterm-project-A8Co57xr/lib/python3.9/site-packages (from argon2-cffi->notebook->jupyter<2.0.0,>=1.0.0->blackcellmagic) (1.15.0)\n",
      "Requirement already satisfied: webencodings in /Users/robmoore/.local/share/virtualenvs/zoomcamp-midterm-project-A8Co57xr/lib/python3.9/site-packages (from bleach->nbconvert->jupyter<2.0.0,>=1.0.0->blackcellmagic) (0.5.1)\n",
      "Requirement already satisfied: packaging in /Users/robmoore/.local/share/virtualenvs/zoomcamp-midterm-project-A8Co57xr/lib/python3.9/site-packages (from bleach->nbconvert->jupyter<2.0.0,>=1.0.0->blackcellmagic) (21.3)\n",
      "Requirement already satisfied: six>=1.9.0 in /Users/robmoore/.local/share/virtualenvs/zoomcamp-midterm-project-A8Co57xr/lib/python3.9/site-packages (from bleach->nbconvert->jupyter<2.0.0,>=1.0.0->blackcellmagic) (1.16.0)\n",
      "Requirement already satisfied: pycparser in /Users/robmoore/.local/share/virtualenvs/zoomcamp-midterm-project-A8Co57xr/lib/python3.9/site-packages (from cffi>=1.0.0->argon2-cffi->notebook->jupyter<2.0.0,>=1.0.0->blackcellmagic) (2.21)\n",
      "Requirement already satisfied: parso<0.9.0,>=0.8.0 in /Users/robmoore/.local/share/virtualenvs/zoomcamp-midterm-project-A8Co57xr/lib/python3.9/site-packages (from jedi>=0.16->ipython>=7.23.1->ipykernel->jupyter<2.0.0,>=1.0.0->blackcellmagic) (0.8.2)\n",
      "Requirement already satisfied: pyrsistent!=0.17.0,!=0.17.1,!=0.17.2,>=0.14.0 in /Users/robmoore/.local/share/virtualenvs/zoomcamp-midterm-project-A8Co57xr/lib/python3.9/site-packages (from jsonschema!=2.5.0,>=2.4->nbformat>=4.2.0->ipywidgets->jupyter<2.0.0,>=1.0.0->blackcellmagic) (0.18.0)\n",
      "Requirement already satisfied: attrs>=17.4.0 in /Users/robmoore/.local/share/virtualenvs/zoomcamp-midterm-project-A8Co57xr/lib/python3.9/site-packages (from jsonschema!=2.5.0,>=2.4->nbformat>=4.2.0->ipywidgets->jupyter<2.0.0,>=1.0.0->blackcellmagic) (21.2.0)\n",
      "Requirement already satisfied: pyparsing!=3.0.5,>=2.0.2 in /Users/robmoore/.local/share/virtualenvs/zoomcamp-midterm-project-A8Co57xr/lib/python3.9/site-packages (from packaging->bleach->nbconvert->jupyter<2.0.0,>=1.0.0->blackcellmagic) (3.0.6)\n"
     ]
    }
   ],
   "source": [
    "!pip install blackcellmagic"
   ]
  },
  {
   "cell_type": "code",
   "execution_count": 2,
   "metadata": {
    "id": "vjIT_LZXG7q4"
   },
   "outputs": [],
   "source": [
    "import numpy as np\n",
    "import pandas as pd\n",
    "from sklearn.model_selection import train_test_split\n",
    "\n",
    "random_state = 42"
   ]
  },
  {
   "cell_type": "code",
   "execution_count": 7,
   "metadata": {
    "id": "FMwDbfSVG1JE"
   },
   "outputs": [],
   "source": [
    "df = pd.read_table(\n",
    "    \"http://jse.amstat.org/v19n3/decock/AmesHousing.txt\",\n",
    "    index_col=\"PID\",\n",
    ")"
   ]
  },
  {
   "cell_type": "code",
   "execution_count": 8,
   "metadata": {
    "colab": {
     "base_uri": "https://localhost:8080/"
    },
    "id": "VPzhaMf_G2TC",
    "outputId": "2c1de09b-caab-4b91-a6d9-df3ce820b724"
   },
   "outputs": [
    {
     "data": {
      "text/plain": [
       "2930"
      ]
     },
     "execution_count": 8,
     "metadata": {},
     "output_type": "execute_result"
    }
   ],
   "source": [
    "len(df)"
   ]
  },
  {
   "cell_type": "code",
   "execution_count": 9,
   "metadata": {
    "id": "CghBm5nkhqSt"
   },
   "outputs": [],
   "source": [
    "df.columns = df.columns.str.lower().str.replace(\" \", \"_\")\n",
    "\n",
    "df[\"central_air\"] = df[\"central_air\"] == \"Y\"\n",
    "df[\"paved_drive\"] = df[\"paved_drive\"] == \"Y\"\n",
    "\n",
    "na_columns = [\n",
    "    \"alley\",\n",
    "    \"bsmt_qual\",\n",
    "    \"bsmt_cond\",\n",
    "    \"bsmt_exposure\",\n",
    "    \"bsmtfin_type_1\",\n",
    "    \"bsmtfin_type_2\",\n",
    "    \"fireplace_qu\",\n",
    "    \"garage_type\",\n",
    "    \"garage_finish\",\n",
    "    \"garage_qual\",\n",
    "    \"garage_cond\",\n",
    "    \"pool_qc\",\n",
    "    \"fence\",\n",
    "    \"misc_feature\",\n",
    "]\n",
    "df[na_columns] = df[na_columns].fillna(\"NA\")\n",
    "\n",
    "bmst_columns = [\n",
    "    \"bsmtfin_sf_1\",\n",
    "    \"bsmtfin_sf_2\",\n",
    "    \"bsmt_unf_sf\",\n",
    "    \"total_bsmt_sf\",\n",
    "    \"bsmt_full_bath\",\n",
    "    \"bsmt_half_bath\",\n",
    "]\n",
    "\n",
    "mask = df[\"bsmt_qual\"] == \"NA\"\n",
    "df.loc[mask, bmst_columns] = df.loc[mask, bmst_columns].fillna(0)\n",
    "\n",
    "df = df.drop([\"order\", \"garage_yr_blt\", \"lot_frontage\"], axis=1)\n",
    "\n",
    "df[\"mas_vnr_type\"] = df[\"mas_vnr_type\"].fillna(\"None\")\n",
    "mask = (df[\"mas_vnr_type\"] == \"None\") & (df[\"mas_vnr_area\"].isna())\n",
    "df.loc[mask, \"mas_vnr_area\"] = df.loc[mask, \"mas_vnr_area\"].fillna(0.0)\n",
    "\n",
    "df = df[df[\"\"]]\n",
    "\n",
    "# TODO Drop nas to nix case of 910201180 and adjoining property which has a detached garage\n",
    "# https://beacon.schneidercorp.com/Application.aspx?AppID=165&LayerID=2145&PageTypeID=4&PageID=1108&Q=251139400&KeyValue=0910201180\n",
    "# 0910201190\n",
    "#df = df.drop([910201180])\n",
    "\n",
    "# Changed based on info at\n",
    "# https://beacon.schneidercorp.com/Application.aspx?AppID=165&LayerID=2145&PageTypeID=4&PageID=1108&KeyValue=0916386080\n",
    "df.loc[916386080, \"electrical\"] = \"SBrkr\"\n",
    "\n",
    "# Based on author's comments, removing atypical examples\n",
    "# \"I would recommend removing any houses with more than 4000 square feet from the data set (which eliminates these five unusual observations)\"\n",
    "df = df[df.gr_liv_area <= 4000]\n",
    "\n",
    "df_full_train, df_test = train_test_split(\n",
    "    df,\n",
    "    test_size=0.2,\n",
    "    random_state=random_state,\n",
    ")\n",
    "df_train, df_val = train_test_split(\n",
    "    df_full_train, test_size=0.25, random_state=random_state\n",
    ")\n",
    "\n",
    "df_full_train = df_full_train.reset_index(drop=True)\n",
    "df_train = df_train.reset_index(drop=True)\n",
    "df_val = df_val.reset_index(drop=True)\n",
    "df_test = df_test.reset_index(drop=True)"
   ]
  },
  {
   "cell_type": "code",
   "execution_count": 10,
   "metadata": {
    "colab": {
     "base_uri": "https://localhost:8080/"
    },
    "id": "xqsPOHoRGjxl",
    "outputId": "1162c17c-d816-42cf-c3ba-459e939ab59e"
   },
   "outputs": [
    {
     "data": {
      "text/plain": [
       "2924"
      ]
     },
     "execution_count": 10,
     "metadata": {},
     "output_type": "execute_result"
    }
   ],
   "source": [
    "len(df)"
   ]
  },
  {
   "cell_type": "code",
   "execution_count": 12,
   "metadata": {},
   "outputs": [
    {
     "data": {
      "text/plain": [
       "Normal     1461\n",
       "Partial     141\n",
       "Abnorml     107\n",
       "Family       27\n",
       "Alloca       12\n",
       "AdjLand       6\n",
       "Name: sale_condition, dtype: int64"
      ]
     },
     "execution_count": 12,
     "metadata": {},
     "output_type": "execute_result"
    }
   ],
   "source": [
    "df_train.sale_condition.value_counts()"
   ]
  },
  {
   "cell_type": "code",
   "execution_count": null,
   "metadata": {
    "colab": {
     "base_uri": "https://localhost:8080/",
     "height": 90
    },
    "id": "B23a8yvZl4GK",
    "outputId": "732e3f24-df54-409c-ea89-5c14ab0bdad7"
   },
   "outputs": [],
   "source": [
    "null_counts = pd.DataFrame(df.isnull().sum(), columns=[\"nulls\"])\n",
    "null_counts[null_counts.nulls > 0]"
   ]
  },
  {
   "cell_type": "code",
   "execution_count": null,
   "metadata": {
    "colab": {
     "base_uri": "https://localhost:8080/",
     "height": 244
    },
    "id": "Wwe4C-0hF9BH",
    "outputId": "15274c25-578c-41c4-9085-d27cab1e8521"
   },
   "outputs": [],
   "source": [
    "df_train.head()"
   ]
  },
  {
   "cell_type": "code",
   "execution_count": null,
   "metadata": {
    "colab": {
     "base_uri": "https://localhost:8080/",
     "height": 118
    },
    "id": "bgtzl0nBF9aH",
    "outputId": "d008e17b-5d70-4075-b54a-34252a039eaf"
   },
   "outputs": [],
   "source": [
    "df[df.gr_liv_area > 4000]"
   ]
  },
  {
   "cell_type": "code",
   "execution_count": null,
   "metadata": {
    "colab": {
     "base_uri": "https://localhost:8080/",
     "height": 338
    },
    "id": "p-L7tgTTGKlP",
    "outputId": "452f0f58-61cd-46a3-fc90-024afe1f00a1"
   },
   "outputs": [],
   "source": [
    "df_train.describe()"
   ]
  },
  {
   "cell_type": "code",
   "execution_count": null,
   "metadata": {
    "colab": {
     "base_uri": "https://localhost:8080/",
     "height": 637
    },
    "id": "v08NQdbVHKFa",
    "outputId": "6f90a152-a872-471b-9602-7266eaaf1732"
   },
   "outputs": [],
   "source": [
    "pd.DataFrame(df_train.dtypes)"
   ]
  },
  {
   "cell_type": "code",
   "execution_count": null,
   "metadata": {
    "colab": {
     "base_uri": "https://localhost:8080/"
    },
    "id": "klLAZib1HKfO",
    "outputId": "9c9dd39b-44d2-4ebd-b1dd-2a97f6d218a6"
   },
   "outputs": [],
   "source": [
    "categorical_columns = list(df_train.dtypes[df_train.dtypes == 'object'].index)\n",
    "categorical_columns\n",
    "\n",
    "numerical_columns = list(df_train.dtypes[df_train.dtypes != 'object'].index)\n",
    "numerical_columns = [column for column in numerical_columns if column != 'saleprice']\n",
    "\n",
    "categorical_columns, numerical_columns"
   ]
  },
  {
   "cell_type": "code",
   "execution_count": null,
   "metadata": {
    "colab": {
     "base_uri": "https://localhost:8080/",
     "height": 244
    },
    "id": "J-Ir1nJGIrWh",
    "outputId": "34da6248-cf5d-45fa-f278-bc7eaa1b8f62"
   },
   "outputs": [],
   "source": [
    "df_full_train[categorical_columns].head()"
   ]
  },
  {
   "cell_type": "code",
   "execution_count": null,
   "metadata": {
    "colab": {
     "base_uri": "https://localhost:8080/",
     "height": 244
    },
    "id": "7ejNgtXLIv5z",
    "outputId": "6a34f5fb-4311-4c95-e872-d8cb5866edb4"
   },
   "outputs": [],
   "source": [
    "df_full_train[numerical_columns].head()"
   ]
  },
  {
   "cell_type": "code",
   "execution_count": null,
   "metadata": {
    "colab": {
     "base_uri": "https://localhost:8080/",
     "height": 637
    },
    "id": "3TkkqZdrHPL9",
    "outputId": "df28774a-1b4e-4be5-d1f1-01bc4db5cc79"
   },
   "outputs": [],
   "source": [
    "df_train[0:1].T"
   ]
  },
  {
   "cell_type": "code",
   "execution_count": null,
   "metadata": {
    "colab": {
     "base_uri": "https://localhost:8080/"
    },
    "id": "-EJ-iLn4HxhB",
    "outputId": "4d6cc072-e16c-44f0-f420-9069340a8a17"
   },
   "outputs": [],
   "source": [
    "corr = df_full_train[numerical_columns].corrwith(np.log1p(df_full_train[\"saleprice\"])).abs()\n",
    "#corr[(corr >= .1)].sort_values(ascending=False)\n",
    "corr.sort_values(ascending=False)"
   ]
  },
  {
   "cell_type": "code",
   "execution_count": null,
   "metadata": {},
   "outputs": [],
   "source": [
    "corr[(corr >= .1)].sort_values(ascending=False)"
   ]
  },
  {
   "cell_type": "code",
   "execution_count": null,
   "metadata": {
    "colab": {
     "base_uri": "https://localhost:8080/",
     "height": 637
    },
    "id": "3q3UAjJbIYtv",
    "outputId": "736d5710-3d0a-4dcb-9d1a-322e9ba07490"
   },
   "outputs": [],
   "source": [
    "from sklearn.metrics import mutual_info_score\n",
    "\n",
    "def mutual_info_score_price(series):\n",
    "    return mutual_info_score(series, df_full_train[\"saleprice\"])\n",
    "\n",
    "mi = df_full_train[categorical_columns].apply(mutual_info_score_price)\n",
    "mi = mi.sort_values(ascending=False).to_frame(name='MI')\n",
    "mi"
   ]
  },
  {
   "cell_type": "code",
   "execution_count": null,
   "metadata": {
    "colab": {
     "base_uri": "https://localhost:8080/",
     "height": 362
    },
    "id": "nspdLLwQKwZG",
    "outputId": "c71d1df0-0830-49a4-f83e-c57c99cefdf2"
   },
   "outputs": [],
   "source": [
    "import seaborn as sns\n",
    "\n",
    "sns.displot(df_full_train[\"saleprice\"])"
   ]
  },
  {
   "cell_type": "code",
   "execution_count": null,
   "metadata": {
    "colab": {
     "base_uri": "https://localhost:8080/",
     "height": 351
    },
    "id": "XzUdzGbgK1oU",
    "outputId": "3e953ea6-0a3c-4b59-b076-4c051e500dbd"
   },
   "outputs": [],
   "source": [
    "sns.displot(np.log1p(df_full_train[\"saleprice\"]))"
   ]
  },
  {
   "cell_type": "markdown",
   "metadata": {
    "id": "MX_jwqa3Lcyw"
   },
   "source": [
    "From [ML Zoomcamp Office Hours -- Week 8\n",
    "](https://github.com/alexeygrigorev/mlbookcamp-code/blob/1c2fe001c880f5496b400727924ff8b8e110e862/course-zoomcamp/07-midterm-project/week8-office-hours.ipynb):\n",
    "\n",
    "> When feature is categorical and target is numerical, turn target into categorical and use mutual information\n"
   ]
  },
  {
   "cell_type": "code",
   "execution_count": null,
   "metadata": {
    "colab": {
     "base_uri": "https://localhost:8080/"
    },
    "id": "tx1s5KtxLadi",
    "outputId": "8aea2b01-9b1b-4295-e0b0-7a8b80bfa05e"
   },
   "outputs": [],
   "source": [
    "qprice = pd.qcut(np.log1p(df_full_train[\"saleprice\"]), q=10)\n",
    "qprice"
   ]
  },
  {
   "cell_type": "code",
   "execution_count": null,
   "metadata": {
    "colab": {
     "base_uri": "https://localhost:8080/",
     "height": 637
    },
    "id": "If3SGpTeLhsP",
    "outputId": "7e6a6cd2-dd95-4be3-d414-3dfdcebce045"
   },
   "outputs": [],
   "source": [
    "from sklearn.metrics import mutual_info_score\n",
    " \n",
    "def calculate_mi(series):\n",
    "    return mutual_info_score(series, qprice)\n",
    "\n",
    "df_mi = df_full_train[categorical_columns].apply(calculate_mi)\n",
    "df_mi = df_mi.sort_values(ascending=False).to_frame(name='MI')\n",
    "df_mi"
   ]
  },
  {
   "cell_type": "code",
   "execution_count": null,
   "metadata": {
    "colab": {
     "base_uri": "https://localhost:8080/",
     "height": 637
    },
    "id": "RnA2sAv1LkE8",
    "outputId": "33b1e48a-b40f-4d7f-9a83-088966bf431d"
   },
   "outputs": [],
   "source": [
    "corr = df_full_train[numerical_columns].corrwith(np.log1p(df_full_train.saleprice)).abs()\n",
    "pd.DataFrame(corr[(corr >= .1)].sort_values(ascending=False))"
   ]
  },
  {
   "cell_type": "code",
   "execution_count": null,
   "metadata": {
    "id": "flEajDEXMCB2"
   },
   "outputs": [],
   "source": [
    "y_train = np.log1p(df_train[\"saleprice\"])\n",
    "y_val = np.log1p(df_val[\"saleprice\"])\n",
    "y_test = np.log1p(df_test[\"saleprice\"])\n",
    "y_full_train = np.log1p(df_full_train[\"saleprice\"])\n",
    "\n",
    "columns_to_drop = [\"saleprice\"]\n",
    "\n",
    "categorical_columns = [column for column in categorical_columns if column not in columns_to_drop]\n",
    "df_full_train = df_full_train.drop(columns_to_drop, axis=1)\n",
    "df_train = df_train.drop(columns_to_drop, axis=1)\n",
    "df_val = df_val.drop(columns_to_drop, axis=1)\n",
    "df_test = df_test.drop(columns_to_drop, axis=1)"
   ]
  },
  {
   "cell_type": "code",
   "execution_count": null,
   "metadata": {
    "id": "r_rRWGOzMIma"
   },
   "outputs": [],
   "source": [
    "from sklearn.feature_extraction import DictVectorizer\n",
    "dv = DictVectorizer(sparse=False)\n",
    "dv.fit(df[categorical_columns + numerical_columns].to_dict(orient='records'))\n",
    "\n",
    "full_train_dict = df_full_train[categorical_columns + numerical_columns].to_dict(orient='records')\n",
    "X_full_train = dv.transform(full_train_dict)\n",
    "\n",
    "train_dict = df_train[categorical_columns + numerical_columns].to_dict(orient='records')\n",
    "X_train = dv.transform(train_dict)\n",
    "\n",
    "val_dict = df_val[categorical_columns + numerical_columns].to_dict(orient='records')\n",
    "X_val = dv.transform(val_dict)\n",
    "\n",
    "test_dict = df_test[categorical_columns + numerical_columns].to_dict(orient='records')\n",
    "X_test = dv.transform(test_dict)"
   ]
  },
  {
   "cell_type": "code",
   "execution_count": null,
   "metadata": {
    "colab": {
     "base_uri": "https://localhost:8080/"
    },
    "id": "3mHuaTnONDj5",
    "outputId": "fd00abdc-6098-4a9e-e749-6350a0e69c2f"
   },
   "outputs": [],
   "source": [
    "from sklearn.preprocessing import StandardScaler\n",
    "from sklearn.linear_model import LinearRegression, Lasso, ElasticNet\n",
    "from sklearn.model_selection import GridSearchCV\n",
    "from sklearn.pipeline import Pipeline\n",
    "from sklearn.metrics import mean_squared_error\n",
    "\n",
    "pipe = Pipeline([\n",
    "    ('scale', StandardScaler()),\n",
    "    ('regr', LinearRegression())\n",
    "])\n",
    "\n",
    "param_grid = [\n",
    "    {\n",
    "        'regr': [Lasso(max_iter=4000, random_state=random_state)],\n",
    "        'regr__alpha': np.logspace(-4, 1, 6),\n",
    "    },\n",
    "        {\n",
    "        'regr': [ElasticNet(max_iter=4000, random_state=random_state)],\n",
    "        'regr__alpha': np.logspace(-4, 1, 6),\n",
    "        'regr__l1_ratio' : [0,0.25,0.5,0.75,1]\n",
    "    },\n",
    "]\n",
    "\n",
    "grid = GridSearchCV(pipe, param_grid=param_grid, cv=10, n_jobs=-1, verbose=2)\n",
    "grid.fit(X_train, y_train)\n",
    "\n",
    "print('Best Params:\\t{}'.format(grid.best_params_))\n",
    "print('Best Score:\\t{}'.format(grid.best_score_))\n",
    "\n",
    "print('Score:\\t{}'.format(grid.score(X_val, y_val)))\n",
    "\n",
    "y_pred = grid.predict(X_val)\n",
    "print('RMSE:\\t{}'.format(mean_squared_error(y_val, y_pred, squared=False)))"
   ]
  },
  {
   "cell_type": "code",
   "execution_count": null,
   "metadata": {
    "colab": {
     "base_uri": "https://localhost:8080/"
    },
    "id": "8ENjtuzpQ2oj",
    "outputId": "87184a63-9012-4b12-d75b-0b9792a6a7f9"
   },
   "outputs": [],
   "source": [
    "from sklearn.linear_model import ElasticNet\n",
    "from sklearn.metrics import mean_squared_error\n",
    "\n",
    "model = Pipeline([\n",
    "    ('scale', StandardScaler()),\n",
    "    ('regr', ElasticNet(alpha=0.01, l1_ratio=0.25, random_state=random_state))])\n",
    "\n",
    "model.fit(X_train, y_train)\n",
    "\n",
    "print('Score:\\t{}'.format(model.score(X_val, y_val)))\n",
    "\n",
    "y_pred = model.predict(X_val)\n",
    "print('RMSE:\\t{}'.format(mean_squared_error(y_val, y_pred, squared=False)))"
   ]
  },
  {
   "cell_type": "code",
   "execution_count": null,
   "metadata": {
    "colab": {
     "base_uri": "https://localhost:8080/"
    },
    "id": "FKwsHrn6SgIg",
    "outputId": "cfade54c-93b2-45b4-a26b-2d17f7b5a267"
   },
   "outputs": [],
   "source": [
    "import xgboost as xgb\n",
    "\n",
    "# colsample_by_tree = np.linspace(0.0, 1.0, 11) \n",
    "# subsample = np.arange(0.4, 1.1, .1)\n",
    "\n",
    "xgb = xgb.XGBRegressor(objective=\"reg:squarederror\", random_state=random_state, n_jobs=-1)\n",
    "parameters = {\n",
    "              'learning_rate': [.1], # [.01, 0.05, .1], \n",
    "              'max_depth': [10], #:[3, 4, 10],\n",
    "              'min_child_weight': [10], #: [1, 10, 30],\n",
    "              'subsample':np.arange(0.4, 1.1, .1),\n",
    "              'colsample_bytree': np.linspace(0.0, 1.0, 11) \n",
    "}\n",
    "xgb_grid = GridSearchCV(xgb,\n",
    "                        parameters,\n",
    "                        cv = 10,\n",
    "                        n_jobs = -1,\n",
    "                        verbose=2)\n",
    "\n",
    "xgb_grid.fit(X_train, y_train)\n",
    "\n",
    "print('Best Params:\\t{}'.format(xgb_grid.best_params_))\n",
    "print('Best Score:\\t{}'.format(xgb_grid.best_score_))\n",
    "\n",
    "print('Score:\\t{}'.format(xgb_grid.score(X_val, y_val)))\n",
    "\n",
    "y_pred = xgb_grid.predict(X_val)\n",
    "print('RMSE:\\t{}'.format(mean_squared_error(y_val, y_pred, squared=False)))"
   ]
  },
  {
   "cell_type": "code",
   "execution_count": null,
   "metadata": {},
   "outputs": [],
   "source": []
  },
  {
   "cell_type": "markdown",
   "metadata": {},
   "source": [
    "```\n",
    "Fitting 10 folds for each of 77 candidates, totalling 770 fits\n",
    "Best Params:\t{'colsample_bytree': 0.7000000000000001, 'learning_rate': 0.1, 'max_depth': 10, 'min_child_weight': 10, 'subsample': 0.4}\n",
    "Best Score:\t0.9003115023365463\n",
    "Score:\t0.902437140418501\n",
    "RMSE:\t0.12086306498488561\n",
    "```"
   ]
  },
  {
   "cell_type": "code",
   "execution_count": null,
   "metadata": {},
   "outputs": [],
   "source": [
    "import xgboost as xgb\n",
    "\n",
    "# colsample_by_tree = np.linspace(0.0, 1.0, 11) \n",
    "# subsample = np.arange(0.4, 1.1, .1)\n",
    "\n",
    "xgb = xgb.XGBRegressor(objective=\"reg:squarederror\", random_state=random_state, n_jobs=-1)\n",
    "parameters = {\n",
    "              'learning_rate': [.1], # [.01, 0.05, .1], \n",
    "              'max_depth': [10], #:[3, 4, 10],\n",
    "              'min_child_weight': [10], #: [1, 10, 30],\n",
    "              'subsample': [.4], #:np.arange(0.4, 1.1, .1),\n",
    "              'colsample_bytree': [.7]# np.linspace(0.0, 1.0, 11) \n",
    "}\n",
    "xgb_grid = GridSearchCV(xgb,\n",
    "                        parameters,\n",
    "                        cv = 10,\n",
    "                        n_jobs = -1,\n",
    "                        verbose=2)\n",
    "\n",
    "xgb_grid.fit(X_train, y_train)\n",
    "\n",
    "print('Best Params:\\t{}'.format(xgb_grid.best_params_))\n",
    "print('Best Score:\\t{}'.format(xgb_grid.best_score_))\n",
    "\n",
    "print('Score:\\t{}'.format(xgb_grid.score(X_val, y_val)))\n",
    "\n",
    "y_pred = xgb_grid.predict(X_val)\n",
    "print('RMSE:\\t{}'.format(mean_squared_error(y_val, y_pred, squared=False)))"
   ]
  },
  {
   "cell_type": "code",
   "execution_count": null,
   "metadata": {},
   "outputs": [],
   "source": [
    "from sklearn.metrics import r2_score\n",
    "\n",
    "r2_score(y_val, y_pred)"
   ]
  },
  {
   "cell_type": "code",
   "execution_count": null,
   "metadata": {},
   "outputs": [],
   "source": [
    "#     {\n",
    "#         'regr': [Lasso(max_iter=4000, random_state=random_state)],\n",
    "#         'regr__alpha': np.logspace(-4, 1, 6),\n",
    "\n",
    "scaler = StandardScaler()\n",
    "scaler.fit(X_train)"
   ]
  },
  {
   "cell_type": "code",
   "execution_count": null,
   "metadata": {},
   "outputs": [],
   "source": [
    "from sklearn.feature_selection import SelectFromModel\n",
    "\n",
    "sel_ = SelectFromModel(Lasso(random_state=random_state))\n",
    "sel_.fit(scaler.transform(X_train), y_train)"
   ]
  },
  {
   "cell_type": "code",
   "execution_count": null,
   "metadata": {},
   "outputs": [],
   "source": []
  },
  {
   "cell_type": "code",
   "execution_count": null,
   "metadata": {},
   "outputs": [],
   "source": [
    "len(df_train.columns)"
   ]
  },
  {
   "cell_type": "code",
   "execution_count": null,
   "metadata": {},
   "outputs": [],
   "source": [
    "#sel_.get_support()\n",
    "sel_.estimator_.coef_ "
   ]
  },
  {
   "cell_type": "code",
   "execution_count": null,
   "metadata": {},
   "outputs": [],
   "source": [
    "# df_train[categorical_columns + numerical_columns]\n",
    "selected_feat = df_train.columns[(sel_.get_support())]\n",
    "print('total features: {}'.format((df_train.shape[1])))\n",
    "print('selected features: {}'.format(len(selected_feat)))\n",
    "print('features with coefficients shrank to zero: {}'.format(\n",
    "      np.sum(sel_.estimator_.coef_ == 0)))"
   ]
  },
  {
   "cell_type": "code",
   "execution_count": null,
   "metadata": {},
   "outputs": [],
   "source": [
    "X_train.shape"
   ]
  },
  {
   "cell_type": "code",
   "execution_count": null,
   "metadata": {},
   "outputs": [],
   "source": [
    "import matplotlib.pyplot as plt\n",
    "import numpy as np\n",
    "from sklearn.linear_model import LassoCV\n",
    "\n",
    "lasso = LassoCV(cv=10).fit(X_train, y_train)\n",
    "importance = np.abs(lasso.coef_)\n",
    "feature_names = np.array(dv.get_feature_names_out())\n",
    "plt.bar(height=importance, x=feature_names)\n",
    "plt.title(\"Feature importances via coefficients\")\n",
    "plt.show()"
   ]
  },
  {
   "cell_type": "code",
   "execution_count": null,
   "metadata": {},
   "outputs": [],
   "source": [
    "lasso.coef_"
   ]
  },
  {
   "cell_type": "code",
   "execution_count": null,
   "metadata": {},
   "outputs": [],
   "source": [
    "from sklearn.feature_selection import SelectFromModel\n",
    "from time import time\n",
    "\n",
    "threshold = np.sort(importance)[-3] + 0.01\n",
    "\n",
    "tic = time()\n",
    "sfm = SelectFromModel(lasso).fit(X_train, y_train)\n",
    "toc = time()\n",
    "print(f\"Features selected by SelectFromModel: {feature_names[sfm.get_support()]}\")\n",
    "print(f\"Done in {toc - tic:.3f}s\")"
   ]
  },
  {
   "cell_type": "code",
   "execution_count": null,
   "metadata": {},
   "outputs": [],
   "source": [
    "print('Score:\\t{}'.format(lasso.score(X_val, y_val)))\n",
    "\n",
    "y_pred = lasso.predict(X_val)\n",
    "print('RMSE:\\t{}'.format(mean_squared_error(y_val, y_pred, squared=False)))"
   ]
  }
 ],
 "metadata": {
  "colab": {
   "collapsed_sections": [],
   "name": "Untitled7.ipynb",
   "provenance": []
  },
  "kernelspec": {
   "display_name": "Python 3 (ipykernel)",
   "language": "python",
   "name": "python3"
  },
  "language_info": {
   "codemirror_mode": {
    "name": "ipython",
    "version": 3
   },
   "file_extension": ".py",
   "mimetype": "text/x-python",
   "name": "python",
   "nbconvert_exporter": "python",
   "pygments_lexer": "ipython3",
   "version": "3.9.8"
  }
 },
 "nbformat": 4,
 "nbformat_minor": 1
}